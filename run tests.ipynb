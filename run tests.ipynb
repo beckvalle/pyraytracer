{
 "cells": [
  {
   "cell_type": "code",
   "execution_count": 1,
   "metadata": {},
   "outputs": [],
   "source": [
    "#!pip install pytest\n",
    "#!pip install pytest-cov"
   ]
  },
  {
   "cell_type": "code",
   "execution_count": 2,
   "metadata": {
    "scrolled": false
   },
   "outputs": [
    {
     "name": "stdout",
     "output_type": "stream",
     "text": [
      "\u001b[1m============================= test session starts ==============================\u001b[0m\n",
      "platform linux -- Python 3.7.6, pytest-6.2.4, py-1.10.0, pluggy-0.13.1\n",
      "rootdir: /home/jovyan/work/pyraytracer\n",
      "plugins: cov-2.11.1\n",
      "collected 133 items                                                            \u001b[0m\n",
      "\n",
      "test/test_raytracer_aabb.py \u001b[32m.\u001b[0m\u001b[32m                                            [  0%]\u001b[0m\n",
      "test/test_raytracer_camera_class.py \u001b[32m.\u001b[0m\u001b[32m.\u001b[0m\u001b[32m.\u001b[0m\u001b[32m.\u001b[0m\u001b[32m.\u001b[0m\u001b[32m.\u001b[0m\u001b[32m                               [  5%]\u001b[0m\n",
      "test/test_raytracer_hittable_bvh.py \u001b[32m.\u001b[0m\u001b[32m                                    [  6%]\u001b[0m\n",
      "test/test_raytracer_hittable_objects.py \u001b[32m.\u001b[0m\u001b[32m.\u001b[0m\u001b[32m.\u001b[0m\u001b[32m.\u001b[0m\u001b[32m.\u001b[0m\u001b[32m.\u001b[0m\u001b[32m.\u001b[0m\u001b[32m.\u001b[0m\u001b[32m.\u001b[0m\u001b[32m.\u001b[0m\u001b[32m.\u001b[0m\u001b[32m.\u001b[0m\u001b[32m.\u001b[0m\u001b[32m.\u001b[0m\u001b[32m.\u001b[0m\u001b[32m.\u001b[0m\u001b[32m.\u001b[0m\u001b[32m.\u001b[0m\u001b[32m.\u001b[0m\u001b[32m.\u001b[0m\u001b[32m             [ 21%]\u001b[0m\n",
      "test/test_raytracer_materials.py \u001b[32m.\u001b[0m\u001b[32m.\u001b[0m\u001b[32m.\u001b[0m\u001b[32m.\u001b[0m\u001b[32m.\u001b[0m\u001b[32m.\u001b[0m\u001b[32m.\u001b[0m\u001b[32m.\u001b[0m\u001b[32m.\u001b[0m\u001b[32m.\u001b[0m\u001b[32m.\u001b[0m\u001b[32m.\u001b[0m\u001b[32m.\u001b[0m\u001b[32m.\u001b[0m\u001b[32m.\u001b[0m\u001b[32m.\u001b[0m\u001b[32m.\u001b[0m\u001b[32m.\u001b[0m\u001b[32m.\u001b[0m\u001b[32m.\u001b[0m\u001b[32m.\u001b[0m\u001b[32m.\u001b[0m\u001b[32m.\u001b[0m\u001b[32m                 [ 38%]\u001b[0m\n",
      "test/test_raytracer_perlin.py \u001b[32m.\u001b[0m\u001b[32m                                          [ 39%]\u001b[0m\n",
      "test/test_raytracer_ray_class.py \u001b[32m.\u001b[0m\u001b[32m.\u001b[0m\u001b[32m.\u001b[0m\u001b[32m.\u001b[0m\u001b[32m.\u001b[0m\u001b[32m.\u001b[0m\u001b[32m.\u001b[0m\u001b[32m                                 [ 44%]\u001b[0m\n",
      "test/test_raytracer_rweekend.py \u001b[32m.\u001b[0m\u001b[32m.\u001b[0m\u001b[32m.\u001b[0m\u001b[32m.\u001b[0m\u001b[32m.\u001b[0m\u001b[32m.\u001b[0m\u001b[32m.\u001b[0m\u001b[32m.\u001b[0m\u001b[32m                                 [ 50%]\u001b[0m\n",
      "test/test_raytracer_textures.py \u001b[32m.\u001b[0m\u001b[32m.\u001b[0m\u001b[32m                                       [ 51%]\u001b[0m\n",
      "test/test_raytracer_vec3_class.py \u001b[32m.\u001b[0m\u001b[32m.\u001b[0m\u001b[32m.\u001b[0m\u001b[32m.\u001b[0m\u001b[32m.\u001b[0m\u001b[32m.\u001b[0m\u001b[32m.\u001b[0m\u001b[32m.\u001b[0m\u001b[32m.\u001b[0m\u001b[32m.\u001b[0m\u001b[32m.\u001b[0m\u001b[32m.\u001b[0m\u001b[32m.\u001b[0m\u001b[32m.\u001b[0m\u001b[32m.\u001b[0m\u001b[32m.\u001b[0m\u001b[32m.\u001b[0m\u001b[32m.\u001b[0m\u001b[32m.\u001b[0m\u001b[32m.\u001b[0m\u001b[32m.\u001b[0m\u001b[32m.\u001b[0m\u001b[32m.\u001b[0m\u001b[32m.\u001b[0m\u001b[32m.\u001b[0m\u001b[32m.\u001b[0m\u001b[32m.\u001b[0m\u001b[32m.\u001b[0m\u001b[32m.\u001b[0m\u001b[32m.\u001b[0m\u001b[32m.\u001b[0m\u001b[32m.\u001b[0m\u001b[32m.\u001b[0m\u001b[32m.\u001b[0m\u001b[32m.\u001b[0m\u001b[32m.\u001b[0m\u001b[32m.\u001b[0m\u001b[32m.\u001b[0m\u001b[32m [ 80%]\n",
      "\u001b[0m\u001b[32m.\u001b[0m\u001b[32m.\u001b[0m\u001b[32m.\u001b[0m\u001b[32m.\u001b[0m\u001b[32m.\u001b[0m\u001b[32m.\u001b[0m\u001b[32m.\u001b[0m\u001b[32m.\u001b[0m\u001b[32m.\u001b[0m\u001b[32m.\u001b[0m\u001b[32m.\u001b[0m\u001b[32m.\u001b[0m\u001b[32m.\u001b[0m\u001b[32m.\u001b[0m\u001b[32m                                                           [ 90%]\u001b[0m\n",
      "test/test_raytracer_writeimg.py \u001b[32m.\u001b[0m\u001b[32m.\u001b[0m\u001b[32m.\u001b[0m\u001b[32m.\u001b[0m\u001b[32m.\u001b[0m\u001b[32m.\u001b[0m\u001b[32m.\u001b[0m\u001b[32m.\u001b[0m\u001b[32m.\u001b[0m\u001b[32m.\u001b[0m\u001b[32m.\u001b[0m\u001b[32m.\u001b[0m\u001b[32m                             [100%]\u001b[0m\n",
      "\n",
      "----------- coverage: platform linux, python 3.7.6-final-0 -----------\n",
      "Name                                      Stmts   Miss  Cover   Missing\n",
      "-----------------------------------------------------------------------\n",
      "render_final_image.py                       151    151     0%   1-231\n",
      "src/__init__.py                               0      0   100%\n",
      "src/raytracer/__init__.py                     0      0   100%\n",
      "src/raytracer/aabbs.py                       26     12    54%   14, 18, 22-31, 35, 37\n",
      "src/raytracer/camera.py                      67     24    64%   26, 30, 34, 44, 49, 52, 56, 60, 64, 68, 83-97, 108-110\n",
      "src/raytracer/hittables.py                  456    247    46%   20, 24, 28, 34, 38, 43, 47-53, 62, 64, 66, 68, 73, 90, 108-133, 138, 140, 152-165, 177-179, 183, 191, 196-216, 220-240, 248-271, 275, 282-317, 321-335, 344, 348, 352, 357, 361, 366, 393-394, 400-401, 413, 419-445, 453, 455, 460, 484, 488, 492, 496, 500, 504, 508, 510, 512, 514, 520-534, 539, 547, 551, 555, 559, 563, 567, 571, 573, 575, 577, 583-597, 602, 610, 614, 618, 622, 626, 630, 634, 636, 638, 640, 646-660, 665\n",
      "src/raytracer/materials.py                  117     41    65%   21, 28, 46, 53-55, 66, 69, 88-90, 110-128, 131-133, 136-143, 149-154, 158, 161-164\n",
      "src/raytracer/perlins.py                     31      6    81%   22-29\n",
      "src/raytracer/ray.py                         20      2    90%   25, 29\n",
      "src/raytracer/raytracer.py                  130      5    96%   159-163\n",
      "src/raytracer/rweekend.py                    21      0   100%\n",
      "src/raytracer/textures.py                    77     48    38%   25-28, 33, 42-53, 57-64, 69, 73-76, 84-94, 103-126\n",
      "src/raytracer/writeimg.py                    43      0   100%\n",
      "test/__init__.py                              0      0   100%\n",
      "test/test_raytracer_aabb.py                   5      0   100%\n",
      "test/test_raytracer_camera_class.py          42      0   100%\n",
      "test/test_raytracer_hittable_bvh.py          14      0   100%\n",
      "test/test_raytracer_hittable_objects.py      99      0   100%\n",
      "test/test_raytracer_materials.py            147      0   100%\n",
      "test/test_raytracer_perlin.py                 6      0   100%\n",
      "test/test_raytracer_ray_class.py             36      0   100%\n",
      "test/test_raytracer_rweekend.py              25      0   100%\n",
      "test/test_raytracer_textures.py              13      0   100%\n",
      "test/test_raytracer_vec3_class.py           213      3    99%   248-250\n",
      "test/test_raytracer_writeimg.py              72      0   100%\n",
      "-----------------------------------------------------------------------\n",
      "TOTAL                                      1811    539    70%\n",
      "\n",
      "\n",
      "\u001b[32m============================= \u001b[32m\u001b[1m133 passed\u001b[0m\u001b[32m in 1.20s\u001b[0m\u001b[32m ==============================\u001b[0m\n"
     ]
    }
   ],
   "source": [
    "!pytest --cov=. test --cov-report term-missing"
   ]
  },
  {
   "cell_type": "code",
   "execution_count": null,
   "metadata": {},
   "outputs": [],
   "source": []
  }
 ],
 "metadata": {
  "kernelspec": {
   "display_name": "Python 3",
   "language": "python",
   "name": "python3"
  },
  "language_info": {
   "codemirror_mode": {
    "name": "ipython",
    "version": 3
   },
   "file_extension": ".py",
   "mimetype": "text/x-python",
   "name": "python",
   "nbconvert_exporter": "python",
   "pygments_lexer": "ipython3",
   "version": "3.7.6"
  }
 },
 "nbformat": 4,
 "nbformat_minor": 4
}
