{
 "cells": [
  {
   "cell_type": "code",
   "execution_count": 1,
   "metadata": {},
   "outputs": [],
   "source": [
    "#!pip install pytest\n",
    "#!pip install pytest-cov"
   ]
  },
  {
   "cell_type": "code",
   "execution_count": 2,
   "metadata": {},
   "outputs": [],
   "source": [
    "#!pytest --cov=. test --cov-report term-missing -v"
   ]
  },
  {
   "cell_type": "code",
   "execution_count": 3,
   "metadata": {
    "scrolled": false
   },
   "outputs": [
    {
     "name": "stdout",
     "output_type": "stream",
     "text": [
      "\u001b[1m============================= test session starts ==============================\u001b[0m\n",
      "platform linux -- Python 3.7.6, pytest-6.2.3, py-1.10.0, pluggy-0.13.1\n",
      "rootdir: /home/jovyan/work/pyraytracer\n",
      "plugins: cov-2.11.1\n",
      "collected 127 items                                                            \u001b[0m\n",
      "\n",
      "test/test_raytracer_aabb.py \u001b[32m.\u001b[0m\u001b[32m                                            [  0%]\u001b[0m\n",
      "test/test_raytracer_camera_class.py \u001b[32m.\u001b[0m\u001b[32m.\u001b[0m\u001b[32m.\u001b[0m\u001b[32m.\u001b[0m\u001b[32m.\u001b[0m\u001b[32m.\u001b[0m\u001b[32m                               [  5%]\u001b[0m\n",
      "test/test_raytracer_hittable_bvh.py \u001b[32m.\u001b[0m\u001b[32m                                    [  6%]\u001b[0m\n",
      "test/test_raytracer_hittable_objects.py \u001b[32m.\u001b[0m\u001b[32m.\u001b[0m\u001b[32m.\u001b[0m\u001b[32m.\u001b[0m\u001b[32m.\u001b[0m\u001b[32m.\u001b[0m\u001b[32m.\u001b[0m\u001b[32m.\u001b[0m\u001b[32m.\u001b[0m\u001b[32m.\u001b[0m\u001b[32m.\u001b[0m\u001b[32m.\u001b[0m\u001b[32m.\u001b[0m\u001b[32m.\u001b[0m\u001b[32m                   [ 17%]\u001b[0m\n",
      "test/test_raytracer_materials.py \u001b[32m.\u001b[0m\u001b[32m.\u001b[0m\u001b[32m.\u001b[0m\u001b[32m.\u001b[0m\u001b[32m.\u001b[0m\u001b[32m.\u001b[0m\u001b[32m.\u001b[0m\u001b[32m.\u001b[0m\u001b[32m.\u001b[0m\u001b[32m.\u001b[0m\u001b[32m.\u001b[0m\u001b[32m.\u001b[0m\u001b[32m.\u001b[0m\u001b[32m.\u001b[0m\u001b[32m.\u001b[0m\u001b[32m.\u001b[0m\u001b[32m.\u001b[0m\u001b[32m.\u001b[0m\u001b[32m.\u001b[0m\u001b[32m.\u001b[0m\u001b[32m.\u001b[0m\u001b[32m.\u001b[0m\u001b[32m.\u001b[0m\u001b[32m                 [ 35%]\u001b[0m\n",
      "test/test_raytracer_perlin.py \u001b[32m.\u001b[0m\u001b[32m                                          [ 36%]\u001b[0m\n",
      "test/test_raytracer_ray_class.py \u001b[32m.\u001b[0m\u001b[32m.\u001b[0m\u001b[32m.\u001b[0m\u001b[32m.\u001b[0m\u001b[32m.\u001b[0m\u001b[32m.\u001b[0m\u001b[32m.\u001b[0m\u001b[32m                                 [ 41%]\u001b[0m\n",
      "test/test_raytracer_rweekend.py \u001b[32m.\u001b[0m\u001b[32m.\u001b[0m\u001b[32m.\u001b[0m\u001b[32m.\u001b[0m\u001b[32m.\u001b[0m\u001b[32m.\u001b[0m\u001b[32m.\u001b[0m\u001b[32m.\u001b[0m\u001b[32m                                 [ 48%]\u001b[0m\n",
      "test/test_raytracer_textures.py \u001b[32m.\u001b[0m\u001b[32m.\u001b[0m\u001b[32m                                       [ 49%]\u001b[0m\n",
      "test/test_raytracer_vec3_class.py \u001b[32m.\u001b[0m\u001b[32m.\u001b[0m\u001b[32m.\u001b[0m\u001b[32m.\u001b[0m\u001b[32m.\u001b[0m\u001b[32m.\u001b[0m\u001b[32m.\u001b[0m\u001b[32m.\u001b[0m\u001b[32m.\u001b[0m\u001b[32m.\u001b[0m\u001b[32m.\u001b[0m\u001b[32m.\u001b[0m\u001b[32m.\u001b[0m\u001b[32m.\u001b[0m\u001b[32m.\u001b[0m\u001b[32m.\u001b[0m\u001b[32m.\u001b[0m\u001b[32m.\u001b[0m\u001b[32m.\u001b[0m\u001b[32m.\u001b[0m\u001b[32m.\u001b[0m\u001b[32m.\u001b[0m\u001b[32m.\u001b[0m\u001b[32m.\u001b[0m\u001b[32m.\u001b[0m\u001b[32m.\u001b[0m\u001b[32m.\u001b[0m\u001b[32m.\u001b[0m\u001b[32m.\u001b[0m\u001b[32m.\u001b[0m\u001b[32m.\u001b[0m\u001b[32m.\u001b[0m\u001b[32m.\u001b[0m\u001b[32m.\u001b[0m\u001b[32m.\u001b[0m\u001b[32m.\u001b[0m\u001b[32m.\u001b[0m\u001b[32m.\u001b[0m\u001b[32m [ 79%]\n",
      "\u001b[0m\u001b[32m.\u001b[0m\u001b[32m.\u001b[0m\u001b[32m.\u001b[0m\u001b[32m.\u001b[0m\u001b[32m.\u001b[0m\u001b[32m.\u001b[0m\u001b[32m.\u001b[0m\u001b[32m.\u001b[0m\u001b[32m.\u001b[0m\u001b[32m.\u001b[0m\u001b[32m.\u001b[0m\u001b[32m.\u001b[0m\u001b[32m.\u001b[0m\u001b[32m.\u001b[0m\u001b[32m                                                           [ 90%]\u001b[0m\n",
      "test/test_raytracer_writeimg.py \u001b[32m.\u001b[0m\u001b[32m.\u001b[0m\u001b[32m.\u001b[0m\u001b[32m.\u001b[0m\u001b[32m.\u001b[0m\u001b[32m.\u001b[0m\u001b[32m.\u001b[0m\u001b[32m.\u001b[0m\u001b[32m.\u001b[0m\u001b[32m.\u001b[0m\u001b[32m.\u001b[0m\u001b[32m.\u001b[0m\u001b[32m                             [100%]\u001b[0m\n",
      "\n",
      "----------- coverage: platform linux, python 3.7.6-final-0 -----------\n",
      "Name                                      Stmts   Miss  Cover   Missing\n",
      "-----------------------------------------------------------------------\n",
      "src/__init__.py                               0      0   100%\n",
      "src/raytracer/__init__.py                     0      0   100%\n",
      "src/raytracer/aabbs.py                       26     12    54%   14, 18, 22-31, 35, 37\n",
      "src/raytracer/camera.py                      67     24    64%   26, 30, 34, 44, 49, 52, 56, 60, 64, 68, 83-97, 108-110\n",
      "src/raytracer/hittables.py                  316    177    44%   20, 24, 28, 34, 38, 42-48, 57, 59, 61, 63, 68, 85, 103-128, 133, 135, 147-160, 172-174, 178, 186, 191-211, 215-235, 243-266, 270, 277-312, 316-330, 339, 343, 347, 352, 356, 361, 383, 388-389, 408, 414-440, 448, 450, 455, 471\n",
      "src/raytracer/materials.py                   90     22    76%   24, 42, 57, 60, 96-114, 117-124\n",
      "src/raytracer/perlins.py                     31      6    81%   22-29\n",
      "src/raytracer/ray.py                         20      2    90%   25, 29\n",
      "src/raytracer/raytracer.py                  130      5    96%   159-163\n",
      "src/raytracer/rweekend.py                    21      0   100%\n",
      "src/raytracer/textures.py                    78     49    37%   24-27, 32, 41-52, 56-63, 68, 72-75, 84-95, 105-128\n",
      "src/raytracer/writeimg.py                    43      0   100%\n",
      "test/__init__.py                              0      0   100%\n",
      "test/test_raytracer_aabb.py                   5      0   100%\n",
      "test/test_raytracer_camera_class.py          42      0   100%\n",
      "test/test_raytracer_hittable_bvh.py          14      0   100%\n",
      "test/test_raytracer_hittable_objects.py      71      0   100%\n",
      "test/test_raytracer_materials.py            147      0   100%\n",
      "test/test_raytracer_perlin.py                 6      0   100%\n",
      "test/test_raytracer_ray_class.py             36      0   100%\n",
      "test/test_raytracer_rweekend.py              25      0   100%\n",
      "test/test_raytracer_textures.py              13      0   100%\n",
      "test/test_raytracer_vec3_class.py           213      3    99%   248-250\n",
      "test/test_raytracer_writeimg.py              72      0   100%\n",
      "-----------------------------------------------------------------------\n",
      "TOTAL                                      1466    300    80%\n",
      "\n",
      "\n",
      "\u001b[32m============================= \u001b[32m\u001b[1m127 passed\u001b[0m\u001b[32m in 0.98s\u001b[0m\u001b[32m ==============================\u001b[0m\n"
     ]
    }
   ],
   "source": [
    "!pytest --cov=. test --cov-report term-missing"
   ]
  },
  {
   "cell_type": "code",
   "execution_count": null,
   "metadata": {},
   "outputs": [],
   "source": []
  }
 ],
 "metadata": {
  "kernelspec": {
   "display_name": "Python 3",
   "language": "python",
   "name": "python3"
  },
  "language_info": {
   "codemirror_mode": {
    "name": "ipython",
    "version": 3
   },
   "file_extension": ".py",
   "mimetype": "text/x-python",
   "name": "python",
   "nbconvert_exporter": "python",
   "pygments_lexer": "ipython3",
   "version": "3.7.6"
  }
 },
 "nbformat": 4,
 "nbformat_minor": 4
}
