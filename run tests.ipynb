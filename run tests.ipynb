{
 "cells": [
  {
   "cell_type": "code",
   "execution_count": 1,
   "metadata": {},
   "outputs": [],
   "source": [
    "#!pip install pytest\n",
    "#!pip install pytest-cov\n",
    "#!pytest --cov=. test --cov-report term-missing -v"
   ]
  },
  {
   "cell_type": "code",
   "execution_count": 2,
   "metadata": {
    "scrolled": false
   },
   "outputs": [
    {
     "name": "stdout",
     "output_type": "stream",
     "text": [
      "\u001b[1m============================= test session starts ==============================\u001b[0m\n",
      "platform linux -- Python 3.7.6, pytest-6.2.3, py-1.10.0, pluggy-0.13.1\n",
      "rootdir: /home/jovyan/work/pyraytracer\n",
      "plugins: cov-2.11.1\n",
      "collected 50 items                                                             \u001b[0m\n",
      "\n",
      "test/test_raytracer_ray_class.py \u001b[32m.\u001b[0m\u001b[32m.\u001b[0m\u001b[32m.\u001b[0m\u001b[32m                                     [  6%]\u001b[0m\n",
      "test/test_raytracer_vec3_class.py \u001b[32m.\u001b[0m\u001b[32m.\u001b[0m\u001b[32m.\u001b[0m\u001b[32m.\u001b[0m\u001b[32m.\u001b[0m\u001b[32m.\u001b[0m\u001b[32m.\u001b[0m\u001b[32m.\u001b[0m\u001b[32m.\u001b[0m\u001b[32m.\u001b[0m\u001b[32m.\u001b[0m\u001b[32m.\u001b[0m\u001b[32m.\u001b[0m\u001b[32m.\u001b[0m\u001b[32m.\u001b[0m\u001b[32m.\u001b[0m\u001b[32m.\u001b[0m\u001b[32m.\u001b[0m\u001b[32m.\u001b[0m\u001b[32m.\u001b[0m\u001b[32m.\u001b[0m\u001b[32m.\u001b[0m\u001b[32m.\u001b[0m\u001b[32m.\u001b[0m\u001b[32m.\u001b[0m\u001b[32m.\u001b[0m\u001b[32m.\u001b[0m\u001b[32m.\u001b[0m\u001b[32m.\u001b[0m\u001b[32m.\u001b[0m\u001b[32m.\u001b[0m\u001b[32m.\u001b[0m\u001b[32m.\u001b[0m\u001b[32m.\u001b[0m\u001b[32m.\u001b[0m\u001b[32m.\u001b[0m\u001b[32m   [ 78%]\u001b[0m\n",
      "test/test_raytracer_writeimg.py \u001b[32m.\u001b[0m\u001b[32m.\u001b[0m\u001b[32m.\u001b[0m\u001b[32m.\u001b[0m\u001b[32m.\u001b[0m\u001b[32m.\u001b[0m\u001b[32m.\u001b[0m\u001b[32m.\u001b[0m\u001b[32m.\u001b[0m\u001b[32m.\u001b[0m\u001b[32m.\u001b[0m\u001b[32m                              [100%]\u001b[0m\n",
      "\n",
      "----------- coverage: platform linux, python 3.7.6-final-0 -----------\n",
      "Name                                Stmts   Miss  Cover   Missing\n",
      "-----------------------------------------------------------------\n",
      "src/__init__.py                         0      0   100%\n",
      "src/raytracer/__init__.py               0      0   100%\n",
      "src/raytracer/ray.py                   10      0   100%\n",
      "src/raytracer/raytracer.py             84      0   100%\n",
      "src/raytracer/writeimg.py              35      0   100%\n",
      "test/__init__.py                        0      0   100%\n",
      "test/test_raytracer_ray_class.py       18      0   100%\n",
      "test/test_raytracer_vec3_class.py     153      0   100%\n",
      "test/test_raytracer_writeimg.py        68      0   100%\n",
      "-----------------------------------------------------------------\n",
      "TOTAL                                 368      0   100%\n",
      "\n",
      "\n",
      "\u001b[32m============================== \u001b[32m\u001b[1m50 passed\u001b[0m\u001b[32m in 0.42s\u001b[0m\u001b[32m ==============================\u001b[0m\n"
     ]
    }
   ],
   "source": [
    "!pytest --cov=. test --cov-report term-missing"
   ]
  },
  {
   "cell_type": "code",
   "execution_count": null,
   "metadata": {},
   "outputs": [],
   "source": []
  }
 ],
 "metadata": {
  "kernelspec": {
   "display_name": "Python 3",
   "language": "python",
   "name": "python3"
  },
  "language_info": {
   "codemirror_mode": {
    "name": "ipython",
    "version": 3
   },
   "file_extension": ".py",
   "mimetype": "text/x-python",
   "name": "python",
   "nbconvert_exporter": "python",
   "pygments_lexer": "ipython3",
   "version": "3.7.6"
  }
 },
 "nbformat": 4,
 "nbformat_minor": 4
}
