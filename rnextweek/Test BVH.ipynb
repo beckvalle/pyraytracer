{
 "cells": [
  {
   "cell_type": "code",
   "execution_count": 1,
   "metadata": {},
   "outputs": [],
   "source": [
    "import sys\n",
    "import math\n",
    "\n",
    "from src.raytracer.raytracer import point3, vec3, color, unit\n",
    "from src.raytracer.raytracer import unit, dot\n",
    "from src.raytracer.raytracer import random_in_hemisphere, random_unit_vector\n",
    "from src.raytracer.ray import ray\n",
    "from src.raytracer import hittables, materials\n",
    "from src.raytracer import camera, writeimg, rweekend\n",
    "from datetime import datetime\n",
    "import pytz"
   ]
  },
  {
   "cell_type": "code",
   "execution_count": 2,
   "metadata": {},
   "outputs": [],
   "source": [
    "def ray_color(r, world, depth):\n",
    "    rec = hittables.hit_record()\n",
    "    if depth <= 0:\n",
    "        return color(0, 0, 0)\n",
    "    \n",
    "    hit_out = world.hit(r, 0.001, rweekend.infinity, rec)\n",
    "    if hit_out[0]:\n",
    "        rec = hit_out[1]\n",
    "        \n",
    "        scattered = ray()\n",
    "        attenuation = vec3()\n",
    "        out = rec.material.scatter(r, rec, attenuation, scattered)\n",
    "        if out[0]:\n",
    "            scattered = out[1]\n",
    "            attenuation = out[2]\n",
    "            # print('attenuation: ', str(attenuation))\n",
    "            # print('scattered: ', str(scattered))\n",
    "            return (attenuation * ray_color(scattered, world, depth-1))\n",
    "        return color(0, 0, 0)\n",
    "            \n",
    "        # target = rec.p + rec.normal + random_unit_vector()  # diffuse v1\n",
    "        # target = rec.p + random_in_hemisphere(rec.normal)  # diffuse v2\n",
    "        # out = 0.5 * ray_color(ray(rec.p, target - rec.p), world, depth-1)\n",
    "        # return out\n",
    "    \n",
    "    # make background gradient\n",
    "    unit_direction = unit(r.direction)\n",
    "    t = 0.5 * (unit_direction.y + 1.0)\n",
    "    return (1.0 - t) * color(1.0, 1.0, 1.0) \\\n",
    "            + t * color(0.5, 0.7, 1.0)"
   ]
  },
  {
   "cell_type": "code",
   "execution_count": 3,
   "metadata": {},
   "outputs": [],
   "source": [
    "def random_scene():\n",
    "    world = hittables.hittable_list()\n",
    "    \n",
    "    ground_material = materials.lambertian(color(0.5, 0.5, 0.5))\n",
    "    world.add(hittables.sphere(point3(0.0, -1000, 0.0), 1000.0, ground_material))\n",
    "    \n",
    "    for a in range(-2, 2):\n",
    "        for b in range(-2, 2):\n",
    "            choose_mat = rweekend.random_double()\n",
    "            center = point3(a + 0.9 * rweekend.random_double(), 0.2, b + 0.9 * rweekend.random_double())\n",
    "            \n",
    "            if ((center - point3(4.0, 0.2, 0.0)).len > 0.9):\n",
    "                if (choose_mat < 0.8):\n",
    "                    # diffuse sphere\n",
    "                    albedo = color.random() * color.random()\n",
    "                    sphere_material = materials.lambertian(albedo)\n",
    "                    center2 = center + vec3(0.0, rweekend.random_double(0.0, 0.5), 0.0) # add moving sphere\n",
    "                    world.add(hittables.moving_sphere(center, center2, 0.0, 1.0, 0.2, sphere_material))\n",
    "                elif (choose_mat < 0.95):\n",
    "                    # metal sphere\n",
    "                    albedo = color.random(0.5, 1.0)\n",
    "                    fuzz = rweekend.random_double(0.0, 0.5)\n",
    "                    sphere_material = materials.metal(albedo, fuzz)\n",
    "                    world.add(hittables.sphere(center, 0.2, sphere_material))\n",
    "                else:\n",
    "                    # glass sphere\n",
    "                    sphere_material = materials.dielectric(1.5)\n",
    "                    world.add(hittables.sphere(center, 0.2, sphere_material))\n",
    "\n",
    "    material1 = materials.dielectric(1.5)\n",
    "    world.add(hittables.sphere(point3(0.0, 1.0, 0.0), 1.0, material1))\n",
    "    \n",
    "    material2 = materials.lambertian(color(0.4, 0.2, 0.1))\n",
    "    world.add(hittables.sphere(point3(-4.0, 1.0, 0.0), 1.0, material2))\n",
    "    \n",
    "    material3 = materials.metal(color(0.7, 0.6, 0.5), 0.0)\n",
    "    world.add(hittables.sphere(point3(4.0, 1.0, 0.0), 1.0, material3))\n",
    "    \n",
    "    return world\n",
    "                    "
   ]
  },
  {
   "cell_type": "code",
   "execution_count": 4,
   "metadata": {},
   "outputs": [],
   "source": [
    "##"
   ]
  },
  {
   "cell_type": "code",
   "execution_count": 5,
   "metadata": {},
   "outputs": [],
   "source": [
    "# image params\n",
    "#aspect_ratio = 3.0 / 2.0\n",
    "aspect_ratio = 16.0 / 9.0\n",
    "image_width = 400\n",
    "#image_width = 1200\n",
    "image_height = math.floor(image_width / aspect_ratio)\n",
    "samples_per_pixel = 2 \n",
    "max_depth = 5\n",
    "# good for testing: spp 2, md 5\n",
    "# spp 25, md 10, 30 min\n",
    "# spp 10, md 20, 22 min\n",
    "# spp 5, md 10, 6 min\n",
    "# spp 2, md 5, 1.5 min\n",
    "# better render spp 20, md 10, 14 min\n",
    "# spp 100, md 50, 1hr15min"
   ]
  },
  {
   "cell_type": "code",
   "execution_count": 6,
   "metadata": {},
   "outputs": [],
   "source": [
    "# world\n",
    "#R = math.cos(rweekend.pi / 4)\n",
    "\n",
    "#world = hittables.hittable_list()\n",
    "#world = random_scene()\n",
    "\n",
    "#material_ground = materials.lambertian(color(0.8, 0.8, 0.0))\n",
    "#material_center = materials.lambertian(color(0.1, 0.2, 0.5))\n",
    "#material_left = materials.dielectric(1.5)\n",
    "#material_right = materials.metal(color(0.8, 0.6, 0.2), 1.0)\n",
    "\n",
    "#material_left = materials.lambertian(color(0.0, 0.0, 1.0))\n",
    "#material_right = materials.lambertian(color(1.0, 0.0, 0.0))\n",
    "\n",
    "#world.add(hittables.sphere(point3(0.0, -100.5, -1.0), 100.0, material_ground))\n",
    "#world.add(hittables.sphere(point3(0.0, 0.0, -1.0), 0.5, material_center))\n",
    "#world.add(hittables.sphere(point3(-1.0, 0.0, -1.0), 0.5, material_left))\n",
    "#world.add(hittables.sphere(point3(-1.0, 0.0, -1.0), -0.4, material_left))\n",
    "#world.add(hittables.sphere(point3(1.0, 0.0, -1.0), 0.5, material_right))\n",
    "\n",
    "#world.add(hittables.sphere(point3(-R, 0.0, -1.0), R, material_left))\n",
    "#world.add(hittables.sphere(point3(R, 0.0, -1.0), R, material_right))\n",
    "\n",
    "objects = hittables.hittable_list()\n",
    "material = materials.lambertian(color(0.8, 0.8, 0.0))\n",
    "objects.add(hittables.sphere(point3(0.0, 0.0, -1.0), 0.5, materials.lambertian(color(0.1, 0.8, 0.0))))\n",
    "objects.add(hittables.sphere(point3(-1.0, -1.0, -1.0), 0.5, materials.lambertian(color(0.3, 0.6, 0.0))))\n",
    "objects.add(hittables.sphere(point3(-1.0, 0.0, -1.0), 0.5, materials.lambertian(color(0.5, 0.4, 0.0))))\n",
    "objects.add(hittables.sphere(point3(1.0, 0.0, -1.0), 0.5, materials.lambertian(color(0.7, 0.2, 0.0))))\n",
    "\n",
    "world = hittables.hittable_list()\n",
    "world.add(hittables.bvh_node(hlist=objects, _time0=0.0, _time1=1.0))\n"
   ]
  },
  {
   "cell_type": "code",
   "execution_count": 7,
   "metadata": {},
   "outputs": [],
   "source": [
    "# camera params\n",
    "#lookfrom = point3(3,3,2)\n",
    "lookfrom = point3(13,2,3)\n",
    "#lookat = point3(0,0,-1)\n",
    "lookat = point3(0,0,0)\n",
    "vup = vec3(0,1,0)\n",
    "#dist_to_focus = (lookfrom-lookat).len\n",
    "dist_to_focus = 10.0\n",
    "#aperture = 2.0\n",
    "aperture = 0.1\n",
    "cam = camera.camera(lookfrom, lookat, vup, 20.0, aspect_ratio, aperture, dist_to_focus, 0.0, 1.0)"
   ]
  },
  {
   "cell_type": "code",
   "execution_count": 8,
   "metadata": {},
   "outputs": [
    {
     "name": "stdout",
     "output_type": "stream",
     "text": [
      "start time:  19:46:35\n"
     ]
    }
   ],
   "source": [
    "tz_CH = pytz.timezone('America/Chicago') \n",
    "print(\"start time: \", datetime.now(tz_CH).strftime(\"%H:%M:%S\"))"
   ]
  },
  {
   "cell_type": "code",
   "execution_count": 9,
   "metadata": {
    "scrolled": true
   },
   "outputs": [
    {
     "name": "stdout",
     "output_type": "stream",
     "text": [
      "0%%%done"
     ]
    }
   ],
   "source": [
    "# render image\n",
    "outimg = writeimg.writeppm(image_width, image_height,\n",
    "                           'outfile.ppm', 'P3', 255)\n",
    "outimg.write_head()\n",
    "for j in range(image_height-1, -1, -1):\n",
    "    sys.stdout.write(\"\\r%d%%\" % j)\n",
    "    sys.stdout.flush()\n",
    "    for i in range(0, image_width):\n",
    "        pixel_color = color(0, 0, 0)\n",
    "        for s in range(0, samples_per_pixel):\n",
    "            u = float(i + rweekend.random_double())/(image_width - 1)\n",
    "            v = float(j + rweekend.random_double())/(image_height - 1)\n",
    "            r = cam.get_ray(u, v)\n",
    "            pixel_color += ray_color(r, world, max_depth)\n",
    "            #print(\"pixel_color\", pixel_color)\n",
    "        outimg.write_color(pixel_color, samples_per_pixel)\n",
    "sys.stdout.write(\"done\")"
   ]
  },
  {
   "cell_type": "code",
   "execution_count": 10,
   "metadata": {},
   "outputs": [
    {
     "data": {
      "text/plain": [
       "[True, 'params OK']"
      ]
     },
     "execution_count": 10,
     "metadata": {},
     "output_type": "execute_result"
    }
   ],
   "source": [
    "outimg.check_valid()"
   ]
  },
  {
   "cell_type": "code",
   "execution_count": 11,
   "metadata": {},
   "outputs": [],
   "source": [
    "outimg.write_color_file()"
   ]
  },
  {
   "cell_type": "code",
   "execution_count": 12,
   "metadata": {},
   "outputs": [
    {
     "name": "stdout",
     "output_type": "stream",
     "text": [
      "end time:  19:47:29\n"
     ]
    }
   ],
   "source": [
    "print(\"end time: \", datetime.now(tz_CH).strftime(\"%H:%M:%S\"))"
   ]
  },
  {
   "cell_type": "code",
   "execution_count": null,
   "metadata": {},
   "outputs": [],
   "source": []
  }
 ],
 "metadata": {
  "kernelspec": {
   "display_name": "Python 3",
   "language": "python",
   "name": "python3"
  },
  "language_info": {
   "codemirror_mode": {
    "name": "ipython",
    "version": 3
   },
   "file_extension": ".py",
   "mimetype": "text/x-python",
   "name": "python",
   "nbconvert_exporter": "python",
   "pygments_lexer": "ipython3",
   "version": "3.7.6"
  }
 },
 "nbformat": 4,
 "nbformat_minor": 4
}
