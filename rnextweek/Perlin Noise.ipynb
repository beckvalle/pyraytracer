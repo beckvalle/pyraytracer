{
 "cells": [
  {
   "cell_type": "code",
   "execution_count": 1,
   "metadata": {},
   "outputs": [],
   "source": [
    "import sys\n",
    "import math\n",
    "\n",
    "from src.raytracer.raytracer import point3, vec3, color, unit\n",
    "from src.raytracer.raytracer import unit, dot\n",
    "from src.raytracer.raytracer import random_in_hemisphere, random_unit_vector\n",
    "from src.raytracer.ray import ray\n",
    "from src.raytracer import hittables, materials, textures\n",
    "from src.raytracer import camera, writeimg, rweekend\n",
    "from datetime import datetime\n",
    "import pytz"
   ]
  },
  {
   "cell_type": "code",
   "execution_count": 2,
   "metadata": {},
   "outputs": [],
   "source": [
    "# used to get a color for a ray\n",
    "def ray_color(r, world, depth):\n",
    "    rec = hittables.hit_record()\n",
    "    if depth <= 0:\n",
    "        return color(0, 0, 0)\n",
    "    \n",
    "    hit_out = world.hit(r, 0.001, rweekend.infinity, rec)\n",
    "    if hit_out[0]:\n",
    "        rec = hit_out[1]\n",
    "        \n",
    "        scattered = ray()\n",
    "        attenuation = vec3()\n",
    "        out = rec.material.scatter(r, rec, attenuation, scattered)\n",
    "        if out[0]:\n",
    "            scattered = out[1]\n",
    "            attenuation = out[2]\n",
    "            return (attenuation * ray_color(scattered, world, depth-1))\n",
    "        return color(0, 0, 0)\n",
    "\n",
    "    # make background gradient\n",
    "    unit_direction = unit(r.direction)\n",
    "    t = 0.5 * (unit_direction.y + 1.0)\n",
    "    return (1.0 - t) * color(1.0, 1.0, 1.0) \\\n",
    "            + t * color(0.5, 0.7, 1.0)"
   ]
  },
  {
   "cell_type": "code",
   "execution_count": 3,
   "metadata": {},
   "outputs": [],
   "source": [
    "# setup code for scene with a bunch of random spheres\n",
    "def random_scene():\n",
    "    world = hittables.hittable_list()\n",
    "    \n",
    "    ground_material = materials.lambertian(color(0.5, 0.5, 0.5))\n",
    "    world.add(hittables.sphere(point3(0.0, -1000, 0.0), 1000.0, ground_material))\n",
    "    \n",
    "    for a in range(-2, 2):\n",
    "        for b in range(-2, 2):\n",
    "            choose_mat = rweekend.random_double()\n",
    "            center = point3(a + 0.9 * rweekend.random_double(), 0.2, b + 0.9 * rweekend.random_double())\n",
    "            \n",
    "            if ((center - point3(4.0, 0.2, 0.0)).len > 0.9):\n",
    "                if (choose_mat < 0.8):\n",
    "                    # diffuse sphere\n",
    "                    albedo = color.random() * color.random()\n",
    "                    sphere_material = materials.lambertian(albedo)\n",
    "                    center2 = center + vec3(0.0, rweekend.random_double(0.0, 0.5), 0.0) # add moving sphere\n",
    "                    world.add(hittables.moving_sphere(center, center2, 0.0, 1.0, 0.2, sphere_material))\n",
    "                elif (choose_mat < 0.95):\n",
    "                    # metal sphere\n",
    "                    albedo = color.random(0.5, 1.0)\n",
    "                    fuzz = rweekend.random_double(0.0, 0.5)\n",
    "                    sphere_material = materials.metal(albedo, fuzz)\n",
    "                    world.add(hittables.sphere(center, 0.2, sphere_material))\n",
    "                else:\n",
    "                    # glass sphere\n",
    "                    sphere_material = materials.dielectric(1.5)\n",
    "                    world.add(hittables.sphere(center, 0.2, sphere_material))\n",
    "\n",
    "    material1 = materials.dielectric(1.5)\n",
    "    world.add(hittables.sphere(point3(0.0, 1.0, 0.0), 1.0, material1))\n",
    "    \n",
    "    material2 = materials.lambertian(color(0.4, 0.2, 0.1))\n",
    "    world.add(hittables.sphere(point3(-4.0, 1.0, 0.0), 1.0, material2))\n",
    "    \n",
    "    material3 = materials.metal(color(0.7, 0.6, 0.5), 0.0)\n",
    "    world.add(hittables.sphere(point3(4.0, 1.0, 0.0), 1.0, material3))\n",
    "    \n",
    "    return world\n"
   ]
  },
  {
   "cell_type": "code",
   "execution_count": 4,
   "metadata": {},
   "outputs": [],
   "source": [
    "# scene setup for two large spheres\n",
    "def two_spheres():\n",
    "    objects = hittables.hittable_list()\n",
    "    \n",
    "    checker = textures.checker_texture(color(0.2, 0.3, 0.1), color(0.9, 0.9, 0.9))\n",
    "    objects.add(hittables.sphere(point3(0.0, -10, 0.0), 10.0, materials.lambertian(checker)))\n",
    "    objects.add(hittables.sphere(point3(0.0, 10, 0.0), 10.0, materials.lambertian(checker)))\n",
    "    \n",
    "    return objects\n",
    "    "
   ]
  },
  {
   "cell_type": "code",
   "execution_count": 5,
   "metadata": {},
   "outputs": [],
   "source": [
    "def two_perlin_spheres():\n",
    "    objects = hittables.hittable_list()\n",
    "    \n",
    "    perlin_text_basic = textures.noise_texture()\n",
    "    objects.add(hittables.sphere(point3(0.0, -1000.0, 0.0), 1000.0, materials.lambertian(perlin_text_basic)))\n",
    "    objects.add(hittables.sphere(point3(0.0, 2.0, 0.0), 2.0, materials.lambertian(perlin_text_basic)))\n",
    "    \n",
    "    return objects\n"
   ]
  },
  {
   "cell_type": "code",
   "execution_count": 6,
   "metadata": {},
   "outputs": [],
   "source": [
    "##"
   ]
  },
  {
   "cell_type": "code",
   "execution_count": 7,
   "metadata": {},
   "outputs": [],
   "source": [
    "# choose scene\n",
    "scene_number = 3"
   ]
  },
  {
   "cell_type": "code",
   "execution_count": 8,
   "metadata": {},
   "outputs": [],
   "source": [
    "# scene defaults\n",
    "vfov = 40.0\n",
    "aperture = 0.0"
   ]
  },
  {
   "cell_type": "code",
   "execution_count": 9,
   "metadata": {},
   "outputs": [],
   "source": [
    "# scene vars per scene\n",
    "\n",
    "# random small spheres and 3 big ones\n",
    "if scene_number == 1:\n",
    "    world = random_scene()\n",
    "    lookfrom = point3(13, 2, 3)\n",
    "    lookat = point3(0, 0, 0)\n",
    "    vfov = 20.0\n",
    "    aperture = 0.1\n",
    "    \n",
    "# 2 large checker spheres\n",
    "elif scene_number == 2:\n",
    "    world = two_spheres()\n",
    "    lookfrom = point3(13, 2, 3)\n",
    "    lookat = point3(0, 0, 0)\n",
    "    vfov = 20.0\n",
    "    \n",
    "# 1 small and 1 large perlin sphere\n",
    "elif scene_number == 3:\n",
    "    world = two_perlin_spheres()\n",
    "    lookfrom = point3(13, 2, 3)\n",
    "    lookat = point3(0, 0, 0)\n",
    "    vfov = 20.0"
   ]
  },
  {
   "cell_type": "code",
   "execution_count": 10,
   "metadata": {},
   "outputs": [],
   "source": [
    "# common camera params\n",
    "vup = vec3(0,1,0)\n",
    "dist_to_focus = 10.0\n",
    "aspect_ratio = 16.0 / 9.0\n",
    "cam = camera.camera(lookfrom, lookat, vup, 20.0, aspect_ratio, \n",
    "                    aperture, dist_to_focus, 0.0, 1.0)"
   ]
  },
  {
   "cell_type": "code",
   "execution_count": 11,
   "metadata": {},
   "outputs": [],
   "source": [
    "# image params\n",
    "image_width = 400\n",
    "image_height = math.floor(image_width / aspect_ratio)\n",
    "samples_per_pixel = 2 \n",
    "max_depth = 5"
   ]
  },
  {
   "cell_type": "code",
   "execution_count": 12,
   "metadata": {},
   "outputs": [],
   "source": [
    "##"
   ]
  },
  {
   "cell_type": "code",
   "execution_count": 13,
   "metadata": {},
   "outputs": [
    {
     "name": "stdout",
     "output_type": "stream",
     "text": [
      "start time:  21:50:12\n"
     ]
    }
   ],
   "source": [
    "# print start time\n",
    "tz_CH = pytz.timezone('America/Chicago') \n",
    "print(\"start time: \", datetime.now(tz_CH).strftime(\"%H:%M:%S\"))"
   ]
  },
  {
   "cell_type": "code",
   "execution_count": 14,
   "metadata": {
    "scrolled": true
   },
   "outputs": [
    {
     "name": "stdout",
     "output_type": "stream",
     "text": [
      "0%%%done"
     ]
    }
   ],
   "source": [
    "# render image\n",
    "outimg = writeimg.writeppm(image_width, image_height,\n",
    "                           'outfile.ppm', 'P3', 255)\n",
    "outimg.write_head()\n",
    "for j in range(image_height-1, -1, -1):\n",
    "    sys.stdout.write(\"\\r%d%%\" % j)\n",
    "    sys.stdout.flush()\n",
    "    for i in range(0, image_width):\n",
    "        pixel_color = color(0, 0, 0)\n",
    "        for s in range(0, samples_per_pixel):\n",
    "            u = float(i + rweekend.random_double())/(image_width - 1)\n",
    "            v = float(j + rweekend.random_double())/(image_height - 1)\n",
    "            r = cam.get_ray(u, v)\n",
    "            pixel_color += ray_color(r, world, max_depth)\n",
    "            #print(\"pixel_color\", pixel_color)\n",
    "        outimg.write_color(pixel_color, samples_per_pixel)\n",
    "sys.stdout.write(\"done\")"
   ]
  },
  {
   "cell_type": "code",
   "execution_count": 15,
   "metadata": {},
   "outputs": [
    {
     "data": {
      "text/plain": [
       "[True, 'params OK']"
      ]
     },
     "execution_count": 15,
     "metadata": {},
     "output_type": "execute_result"
    }
   ],
   "source": [
    "# check if valid file vars\n",
    "outimg.check_valid()"
   ]
  },
  {
   "cell_type": "code",
   "execution_count": 16,
   "metadata": {},
   "outputs": [],
   "source": [
    "# write ppm file\n",
    "outimg.write_color_file()"
   ]
  },
  {
   "cell_type": "code",
   "execution_count": 17,
   "metadata": {},
   "outputs": [
    {
     "name": "stdout",
     "output_type": "stream",
     "text": [
      "end time:  21:51:25\n"
     ]
    }
   ],
   "source": [
    "# print start time\n",
    "print(\"end time: \", datetime.now(tz_CH).strftime(\"%H:%M:%S\"))"
   ]
  },
  {
   "cell_type": "code",
   "execution_count": null,
   "metadata": {},
   "outputs": [],
   "source": []
  },
  {
   "cell_type": "code",
   "execution_count": null,
   "metadata": {},
   "outputs": [],
   "source": []
  }
 ],
 "metadata": {
  "kernelspec": {
   "display_name": "Python 3",
   "language": "python",
   "name": "python3"
  },
  "language_info": {
   "codemirror_mode": {
    "name": "ipython",
    "version": 3
   },
   "file_extension": ".py",
   "mimetype": "text/x-python",
   "name": "python",
   "nbconvert_exporter": "python",
   "pygments_lexer": "ipython3",
   "version": "3.7.6"
  }
 },
 "nbformat": 4,
 "nbformat_minor": 4
}
