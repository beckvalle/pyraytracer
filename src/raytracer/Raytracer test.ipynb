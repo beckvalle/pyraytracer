{
 "cells": [
  {
   "cell_type": "code",
   "execution_count": 1,
   "metadata": {},
   "outputs": [],
   "source": [
    "from raytracer import vec3, dot, cross, unit"
   ]
  },
  {
   "cell_type": "code",
   "execution_count": 2,
   "metadata": {},
   "outputs": [
    {
     "name": "stdout",
     "output_type": "stream",
     "text": [
      "(1, 2, 3)\n",
      "(5, 7, 9)\n",
      "(-3, -3, -3)\n",
      "(4, 10, 18)\n",
      "(3, 6, 9)\n",
      "(3, 6, 9)\n",
      "(0.3333333333333333, 0.6666666666666666, 1.0)\n",
      "32\n",
      "(-3, 6, -3)\n",
      "(0.2672612419124244, 0.5345224838248488, 0.8017837257372732)\n"
     ]
    }
   ],
   "source": [
    "myvec = vec3(1, 2, 3)\n",
    "myvec2 = vec3(4, 5, 6)\n",
    "print(myvec)\n",
    "print(myvec+myvec2)\n",
    "print(myvec-myvec2)\n",
    "print(myvec*myvec2)\n",
    "print(myvec*3)\n",
    "print(3*myvec)\n",
    "print(myvec/3)\n",
    "print(dot(myvec, myvec2))\n",
    "print(cross(myvec, myvec2))\n",
    "print(unit(vec3(1, 2, 3)))"
   ]
  },
  {
   "cell_type": "code",
   "execution_count": null,
   "metadata": {},
   "outputs": [],
   "source": []
  },
  {
   "cell_type": "code",
   "execution_count": null,
   "metadata": {},
   "outputs": [],
   "source": []
  },
  {
   "cell_type": "code",
   "execution_count": null,
   "metadata": {},
   "outputs": [],
   "source": []
  },
  {
   "cell_type": "code",
   "execution_count": null,
   "metadata": {},
   "outputs": [],
   "source": []
  },
  {
   "cell_type": "code",
   "execution_count": null,
   "metadata": {},
   "outputs": [],
   "source": []
  }
 ],
 "metadata": {
  "kernelspec": {
   "display_name": "Python 3",
   "language": "python",
   "name": "python3"
  },
  "language_info": {
   "codemirror_mode": {
    "name": "ipython",
    "version": 3
   },
   "file_extension": ".py",
   "mimetype": "text/x-python",
   "name": "python",
   "nbconvert_exporter": "python",
   "pygments_lexer": "ipython3",
   "version": "3.7.6"
  }
 },
 "nbformat": 4,
 "nbformat_minor": 4
}
