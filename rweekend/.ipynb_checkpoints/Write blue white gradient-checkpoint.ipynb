{
 "cells": [
  {
   "cell_type": "code",
   "execution_count": 1,
   "metadata": {},
   "outputs": [],
   "source": [
    "import sys\n",
    "import math\n",
    "\n",
    "from src.raytracer.raytracer import point3, vec3, color, unit\n",
    "from src.raytracer.ray import ray\n",
    "from src.raytracer import writeimg"
   ]
  },
  {
   "cell_type": "code",
   "execution_count": 2,
   "metadata": {},
   "outputs": [],
   "source": [
    "def ray_color(r):\n",
    "    unit_direction = unit(r.direction)\n",
    "    t = 0.5 * (unit_direction.y + 1.0)\n",
    "    return color((1.0 - t) * color(1.0, 1.0, 1.0) \n",
    "            + t * color(0.5, 0.7, 1.0))"
   ]
  },
  {
   "cell_type": "code",
   "execution_count": 3,
   "metadata": {},
   "outputs": [],
   "source": [
    "##"
   ]
  },
  {
   "cell_type": "code",
   "execution_count": 4,
   "metadata": {},
   "outputs": [],
   "source": [
    "# image params\n",
    "aspect_ratio = 16.0 / 9.0\n",
    "image_width = 400\n",
    "image_height = math.floor(image_width / aspect_ratio)"
   ]
  },
  {
   "cell_type": "code",
   "execution_count": 5,
   "metadata": {},
   "outputs": [],
   "source": [
    "# camera params\n",
    "viewport_height = 2.0\n",
    "viewport_width = aspect_ratio * viewport_height\n",
    "focal_length = 1.0\n",
    "\n",
    "origin = point3(0, 0, 0)\n",
    "horizontal = vec3(viewport_width, 0, 0)\n",
    "vertical = vec3(0, viewport_height, 0)\n",
    "lower_left_corner = origin - horizontal / 2 - vertical / 2 - vec3(0, 0, focal_length)\n"
   ]
  },
  {
   "cell_type": "code",
   "execution_count": 6,
   "metadata": {
    "scrolled": true
   },
   "outputs": [
    {
     "name": "stdout",
     "output_type": "stream",
     "text": [
      "0%%%done"
     ]
    }
   ],
   "source": [
    "# render image\n",
    "outimg = writeimg.writeppm(image_width, image_height,\n",
    "                           'outfile.ppm', 'P3', 255)\n",
    "outimg.write_head()\n",
    "for j in range(image_height-1, -1, -1):\n",
    "    sys.stdout.write(\"\\r%d%%\" % j)\n",
    "    sys.stdout.flush()\n",
    "    for i in range(0, image_width):\n",
    "        u = float(i)/(image_width - 1)\n",
    "        v = float(j)/(image_height - 1)\n",
    "        r = ray(origin, lower_left_corner + u * horizontal\n",
    "                +  v * vertical - origin)\n",
    "        pixel_color = ray_color(r)\n",
    "        outimg.write_color(pixel_color)\n",
    "sys.stdout.write(\"done\")"
   ]
  },
  {
   "cell_type": "code",
   "execution_count": 7,
   "metadata": {},
   "outputs": [
    {
     "data": {
      "text/plain": [
       "[True, 'params OK']"
      ]
     },
     "execution_count": 7,
     "metadata": {},
     "output_type": "execute_result"
    }
   ],
   "source": [
    "outimg.check_valid()"
   ]
  },
  {
   "cell_type": "code",
   "execution_count": 8,
   "metadata": {},
   "outputs": [],
   "source": [
    "outimg.write_color_file()"
   ]
  },
  {
   "cell_type": "code",
   "execution_count": null,
   "metadata": {},
   "outputs": [],
   "source": []
  },
  {
   "cell_type": "code",
   "execution_count": null,
   "metadata": {},
   "outputs": [],
   "source": []
  }
 ],
 "metadata": {
  "kernelspec": {
   "display_name": "Python 3",
   "language": "python",
   "name": "python3"
  },
  "language_info": {
   "codemirror_mode": {
    "name": "ipython",
    "version": 3
   },
   "file_extension": ".py",
   "mimetype": "text/x-python",
   "name": "python",
   "nbconvert_exporter": "python",
   "pygments_lexer": "ipython3",
   "version": "3.7.6"
  }
 },
 "nbformat": 4,
 "nbformat_minor": 4
}
