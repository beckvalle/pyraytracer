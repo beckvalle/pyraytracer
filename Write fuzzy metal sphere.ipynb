{
 "cells": [
  {
   "cell_type": "code",
   "execution_count": 1,
   "metadata": {},
   "outputs": [],
   "source": [
    "import sys\n",
    "import math\n",
    "\n",
    "from src.raytracer.raytracer import point3, vec3, color, unit\n",
    "from src.raytracer.raytracer import unit, dot\n",
    "from src.raytracer.raytracer import random_in_hemisphere, random_unit_vector\n",
    "from src.raytracer.ray import ray\n",
    "from src.raytracer import hittables, materials\n",
    "from src.raytracer import camera, writeimg, rweekend\n",
    "from datetime import datetime\n",
    "import pytz"
   ]
  },
  {
   "cell_type": "code",
   "execution_count": 2,
   "metadata": {},
   "outputs": [],
   "source": [
    "def ray_color(r, world, depth):\n",
    "    rec = hittables.hit_record()\n",
    "    if depth <= 0:\n",
    "        return color(0, 0, 0)\n",
    "    \n",
    "    hit_out = world.hit(r, 0.001, rweekend.infinity, rec)\n",
    "    if hit_out[0]:\n",
    "        rec = hit_out[1]\n",
    "        \n",
    "        scattered = ray()\n",
    "        attenuation = vec3()\n",
    "        out = rec.material.scatter(r, rec, attenuation, scattered)\n",
    "        if out[0]:\n",
    "            scattered = out[1]\n",
    "            attenuation = out[2]\n",
    "            # print('attenuation: ', str(attenuation))\n",
    "            # print('scattered: ', str(scattered))\n",
    "            return (attenuation * ray_color(scattered, world, depth-1))\n",
    "        return color(0, 0, 0)\n",
    "            \n",
    "        # target = rec.p + rec.normal + random_unit_vector()  # diffuse v1\n",
    "        # target = rec.p + random_in_hemisphere(rec.normal)  # diffuse v2\n",
    "        # out = 0.5 * ray_color(ray(rec.p, target - rec.p), world, depth-1)\n",
    "        # return out\n",
    "    \n",
    "    # make background gradient\n",
    "    unit_direction = unit(r.direction)\n",
    "    t = 0.5 * (unit_direction.y + 1.0)\n",
    "    return (1.0 - t) * color(1.0, 1.0, 1.0) \\\n",
    "            + t * color(0.5, 0.7, 1.0)"
   ]
  },
  {
   "cell_type": "code",
   "execution_count": 3,
   "metadata": {},
   "outputs": [],
   "source": [
    "##"
   ]
  },
  {
   "cell_type": "code",
   "execution_count": 4,
   "metadata": {},
   "outputs": [],
   "source": [
    "# image params\n",
    "aspect_ratio = 16.0 / 9.0\n",
    "image_width = 400\n",
    "image_height = math.floor(image_width / aspect_ratio)\n",
    "samples_per_pixel = 2 \n",
    "max_depth = 5\n",
    "# spp 25, md 10, 30 min\n",
    "# spp 10, md 20, 22 min\n",
    "# spp 5, md 10, 6 min\n",
    "# spp 2, md 5, 1.5 min"
   ]
  },
  {
   "cell_type": "code",
   "execution_count": 5,
   "metadata": {},
   "outputs": [],
   "source": [
    "# world\n",
    "world = hittables.hittable_list()\n",
    "\n",
    "material_ground = materials.lambertian(color(0.8, 0.8, 0.0))\n",
    "material_center = materials.lambertian(color(0.7, 0.3, 0.3))\n",
    "material_left = materials.metal(color(0.8, 0.8, 0.8), 0.3)\n",
    "material_right = materials.metal(color(0.8, 0.6, 0.2), 1.0)\n",
    "\n",
    "world.add(hittables.sphere(point3(0.0, -100.5, -1.0), 100.0, material_ground))\n",
    "world.add(hittables.sphere(point3(0.0, 0.0, -1.0), 0.5, material_center))\n",
    "world.add(hittables.sphere(point3(-1.0, 0.0, -1.0), 0.5, material_left))\n",
    "world.add(hittables.sphere(point3(1.0, 0.0, -1.0), 0.5, material_right))"
   ]
  },
  {
   "cell_type": "code",
   "execution_count": 6,
   "metadata": {},
   "outputs": [],
   "source": [
    "# camera params\n",
    "cam = camera.camera()"
   ]
  },
  {
   "cell_type": "code",
   "execution_count": 7,
   "metadata": {},
   "outputs": [
    {
     "name": "stdout",
     "output_type": "stream",
     "text": [
      "start time:  17:46:29\n"
     ]
    }
   ],
   "source": [
    "tz_CH = pytz.timezone('America/Chicago') \n",
    "print(\"start time: \", datetime.now(tz_CH).strftime(\"%H:%M:%S\"))"
   ]
  },
  {
   "cell_type": "code",
   "execution_count": 8,
   "metadata": {
    "scrolled": true
   },
   "outputs": [
    {
     "name": "stdout",
     "output_type": "stream",
     "text": [
      "0%%%done"
     ]
    }
   ],
   "source": [
    "# render image\n",
    "outimg = writeimg.writeppm(image_width, image_height,\n",
    "                           'outfile.ppm', 'P3', 255)\n",
    "outimg.write_head()\n",
    "for j in range(image_height-1, -1, -1):\n",
    "    sys.stdout.write(\"\\r%d%%\" % j)\n",
    "    sys.stdout.flush()\n",
    "    for i in range(0, image_width):\n",
    "        pixel_color = color(0, 0, 0)\n",
    "        for s in range(0, samples_per_pixel):\n",
    "            u = float(i + rweekend.random_double())/(image_width - 1)\n",
    "            v = float(j + rweekend.random_double())/(image_height - 1)\n",
    "            r = cam.get_ray(u, v)\n",
    "            pixel_color += ray_color(r, world, max_depth)\n",
    "            #print(\"pixel_color\", pixel_color)\n",
    "        outimg.write_color(pixel_color, samples_per_pixel)\n",
    "sys.stdout.write(\"done\")"
   ]
  },
  {
   "cell_type": "code",
   "execution_count": 9,
   "metadata": {},
   "outputs": [
    {
     "data": {
      "text/plain": [
       "[True, 'params OK']"
      ]
     },
     "execution_count": 9,
     "metadata": {},
     "output_type": "execute_result"
    }
   ],
   "source": [
    "outimg.check_valid()"
   ]
  },
  {
   "cell_type": "code",
   "execution_count": 10,
   "metadata": {},
   "outputs": [],
   "source": [
    "outimg.write_color_file()"
   ]
  },
  {
   "cell_type": "code",
   "execution_count": 11,
   "metadata": {},
   "outputs": [
    {
     "name": "stdout",
     "output_type": "stream",
     "text": [
      "end time:  17:47:52\n"
     ]
    }
   ],
   "source": [
    "print(\"end time: \", datetime.now(tz_CH).strftime(\"%H:%M:%S\"))"
   ]
  },
  {
   "cell_type": "code",
   "execution_count": null,
   "metadata": {},
   "outputs": [],
   "source": []
  }
 ],
 "metadata": {
  "kernelspec": {
   "display_name": "Python 3",
   "language": "python",
   "name": "python3"
  },
  "language_info": {
   "codemirror_mode": {
    "name": "ipython",
    "version": 3
   },
   "file_extension": ".py",
   "mimetype": "text/x-python",
   "name": "python",
   "nbconvert_exporter": "python",
   "pygments_lexer": "ipython3",
   "version": "3.7.6"
  }
 },
 "nbformat": 4,
 "nbformat_minor": 4
}
